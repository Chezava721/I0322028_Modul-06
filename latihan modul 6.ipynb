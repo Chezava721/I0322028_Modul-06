{
 "cells": [
  {
   "cell_type": "code",
   "execution_count": null,
   "metadata": {},
   "outputs": [],
   "source": [
    "def vol(alas,tinggi,tinggi2):\n",
    "    return  1/2* alas*tinggi*tinggi2\n",
    "\n",
    "vol(3,4,5)"
   ]
  }
 ],
 "metadata": {
  "language_info": {
   "name": "python"
  },
  "orig_nbformat": 4
 },
 "nbformat": 4,
 "nbformat_minor": 2
}
